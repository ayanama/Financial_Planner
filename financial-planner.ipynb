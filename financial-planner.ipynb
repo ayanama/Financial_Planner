{
 "cells": [
  {
   "cell_type": "markdown",
   "metadata": {},
   "source": [
    "# Unit 5 - Financial Planning"
   ]
  },
  {
   "cell_type": "code",
   "execution_count": 1447,
   "metadata": {},
   "outputs": [],
   "source": [
    "# Initial imports\n",
    "import os\n",
    "import requests\n",
    "import pandas as pd\n",
    "from dotenv import load_dotenv\n",
    "import alpaca_trade_api as tradeapi\n",
    "from MCForecastTools import MCSimulation\n",
    "\n",
    "%matplotlib inline"
   ]
  },
  {
   "cell_type": "code",
   "execution_count": 1448,
   "metadata": {},
   "outputs": [
    {
     "data": {
      "text/plain": [
       "True"
      ]
     },
     "execution_count": 1448,
     "metadata": {},
     "output_type": "execute_result"
    }
   ],
   "source": [
    "# Load .env enviroment variables\n",
    "load_dotenv()"
   ]
  },
  {
   "cell_type": "markdown",
   "metadata": {},
   "source": [
    "## Part 1 - Personal Finance Planner"
   ]
  },
  {
   "cell_type": "markdown",
   "metadata": {},
   "source": [
    "### Collect Crypto Prices Using the `requests` Library"
   ]
  },
  {
   "cell_type": "code",
   "execution_count": 1449,
   "metadata": {},
   "outputs": [],
   "source": [
    "# Set current amount of crypto assets\n",
    "my_btc = 1.2\n",
    "my_eth = 5.3"
   ]
  },
  {
   "cell_type": "code",
   "execution_count": 1450,
   "metadata": {},
   "outputs": [],
   "source": [
    "# Crypto API URLs\n",
    "btc_url = \"https://api.alternative.me/v2/ticker/Bitcoin/?convert=CAD\"\n",
    "eth_url = \"https://api.alternative.me/v2/ticker/Ethereum/?convert=CAD\""
   ]
  },
  {
   "cell_type": "code",
   "execution_count": 1451,
   "metadata": {},
   "outputs": [
    {
     "name": "stdout",
     "output_type": "stream",
     "text": [
      "The current value of your 1.2 BTC is $53199.60\n",
      "The current value of your 5.3 ETH is $16461.06\n"
     ]
    }
   ],
   "source": [
    "# Fetch current BTC price\n",
    "btc_data = requests.get(btc_url)\n",
    "\n",
    "# Fetch current ETH price\n",
    "eth_data = requests.get(eth_url)\n",
    "\n",
    "# Compute current value of my crpto\n",
    "\n",
    "# First, I will parse the data in JSON format to select only the price\n",
    "# Then I store the price data in a variable\n",
    "btc_value = btc_data.json()\n",
    "btc_price = btc_value['data']['1']['quotes']['USD']['price']\n",
    "\n",
    "#Then I create a variable based on the user's portfolio, by multipying the amount of crypto by the current price variable\n",
    "my_btc_value = btc_price * my_btc\n",
    "\n",
    "#The same process applies to the ETH data\n",
    "eth_value = eth_data.json()\n",
    "eth_price = eth_value['data']['1027']['quotes']['USD']['price']\n",
    "my_eth_value = eth_price * my_eth\n",
    "\n",
    "# Print current crypto wallet balance\n",
    "print(f\"The current value of your {my_btc} BTC is ${my_btc_value:0.2f}\")\n",
    "print(f\"The current value of your {my_eth} ETH is ${my_eth_value:0.2f}\")"
   ]
  },
  {
   "cell_type": "markdown",
   "metadata": {},
   "source": [
    "### Collect Investments Data Using Alpaca: `SPY` (stocks) and `AGG` (bonds)"
   ]
  },
  {
   "cell_type": "code",
   "execution_count": 1452,
   "metadata": {},
   "outputs": [],
   "source": [
    "# Set current amount of shares\n",
    "my_agg = 200\n",
    "my_spy = 50"
   ]
  },
  {
   "cell_type": "code",
   "execution_count": 1453,
   "metadata": {},
   "outputs": [],
   "source": [
    "\n",
    "# Set Alpaca API key and secret\n",
    "alpaca_key = os.getenv(\"ALPACA_API_KEY\")\n",
    "secret_key = os.getenv(\"ALPACA_SECRET_KEY\")\n",
    "\n",
    "# Create the Alpaca API object\n",
    "from alpaca_trade_api.rest import REST, TimeFrame\n",
    "\n",
    "alpaca = tradeapi.REST (\n",
    "    alpaca_key,\n",
    "    secret_key,\n",
    "    api_version=\"v2\"\n",
    ")\n"
   ]
  },
  {
   "cell_type": "code",
   "execution_count": 1454,
   "metadata": {},
   "outputs": [
    {
     "data": {
      "text/html": [
       "<div>\n",
       "<style scoped>\n",
       "    .dataframe tbody tr th:only-of-type {\n",
       "        vertical-align: middle;\n",
       "    }\n",
       "\n",
       "    .dataframe tbody tr th {\n",
       "        vertical-align: top;\n",
       "    }\n",
       "\n",
       "    .dataframe thead th {\n",
       "        text-align: right;\n",
       "    }\n",
       "</style>\n",
       "<table border=\"1\" class=\"dataframe\">\n",
       "  <thead>\n",
       "    <tr style=\"text-align: right;\">\n",
       "      <th></th>\n",
       "      <th>SPY Close</th>\n",
       "    </tr>\n",
       "  </thead>\n",
       "  <tbody>\n",
       "    <tr>\n",
       "      <th>2022-03-21</th>\n",
       "      <td>444.3</td>\n",
       "    </tr>\n",
       "  </tbody>\n",
       "</table>\n",
       "</div>"
      ],
      "text/plain": [
       "            SPY Close\n",
       "2022-03-21      444.3"
      ]
     },
     "execution_count": 1454,
     "metadata": {},
     "output_type": "execute_result"
    }
   ],
   "source": [
    "# Format current date as ISO format\n",
    "today = pd.Timestamp(\"2022-03-21\", tz=\"America/New_York\").isoformat()\n",
    "\n",
    "\n",
    "# Set the tickers\n",
    "tickers = [\"AGG\", \"SPY\"]\n",
    "\n",
    "# Set timeframe to '1D' for Alpaca API\n",
    "#timeframe = '1D'\n",
    "\n",
    "# Get current closing prices for SPY and AGG\n",
    "# (use a limit=1000 parameter to call the most recent 1000 days of data)\n",
    "#df_tickers = alpaca.get_bars(\n",
    " #   tickers,\n",
    "  #  TimeFrame.Day,\n",
    "   # start=today,\n",
    "    #end=today,\n",
    "    #limit=1000,\n",
    "#).df\n",
    "\n",
    "#df_tickers.index = df_tickers.index.date\n",
    "agg_close = pd.DataFrame()\n",
    "agg_info = alpaca.get_bars(\"AGG\", TimeFrame.Day, \"2022-03-21\", \"2022-03-21\", adjustment='raw').df\n",
    "agg_close[\"AGG Close\"] = agg_info[\"close\"]\n",
    "agg_close.index = agg_close.index.date\n",
    "\n",
    "spy_close = pd.DataFrame()\n",
    "spy_info = alpaca.get_bars(\"SPY\", TimeFrame.Day, \"2022-03-21\", \"2022-03-21\", adjustment='raw').df\n",
    "spy_close[\"SPY Close\"] = spy_info[\"close\"]\n",
    "spy_close.index = spy_close.index.date\n",
    "\n",
    "# Preview DataFrame\n",
    "agg_close.head()\n",
    "spy_close.head()\n"
   ]
  },
  {
   "cell_type": "code",
   "execution_count": 1455,
   "metadata": {},
   "outputs": [
    {
     "name": "stdout",
     "output_type": "stream",
     "text": [
      "Current AGG closing price: $107.04\n",
      "Current SPY closing price: $444.3\n"
     ]
    }
   ],
   "source": [
    "# Pick AGG and SPY close prices\n",
    "agg_close_price = agg_close[\"AGG Close\"].iloc[0] \n",
    "spy_close_price = spy_close[\"SPY Close\"].iloc[0]\n",
    "\n",
    "# Print AGG and SPY close prices\n",
    "print(f\"Current AGG closing price: ${agg_close_price}\")\n",
    "print(f\"Current SPY closing price: ${spy_close_price}\")"
   ]
  },
  {
   "cell_type": "code",
   "execution_count": 1456,
   "metadata": {},
   "outputs": [
    {
     "name": "stdout",
     "output_type": "stream",
     "text": [
      "The current value of your 50 SPY shares is $22215.00\n",
      "The current value of your 200 AGG shares is $21408.00\n"
     ]
    }
   ],
   "source": [
    "# Compute the current value of shares\n",
    "my_agg_value = agg_close[\"AGG Close\"].iloc[0] * my_agg\n",
    "my_spy_value = spy_close[\"SPY Close\"].iloc[0] * my_spy\n",
    "\n",
    "# Print current value of shares\n",
    "print(f\"The current value of your {my_spy} SPY shares is ${my_spy_value:0.2f}\")\n",
    "print(f\"The current value of your {my_agg} AGG shares is ${my_agg_value:0.2f}\")"
   ]
  },
  {
   "cell_type": "markdown",
   "metadata": {},
   "source": [
    "### Savings Health Analysis"
   ]
  },
  {
   "cell_type": "code",
   "execution_count": 1457,
   "metadata": {},
   "outputs": [
    {
     "data": {
      "text/html": [
       "<div>\n",
       "<style scoped>\n",
       "    .dataframe tbody tr th:only-of-type {\n",
       "        vertical-align: middle;\n",
       "    }\n",
       "\n",
       "    .dataframe tbody tr th {\n",
       "        vertical-align: top;\n",
       "    }\n",
       "\n",
       "    .dataframe thead th {\n",
       "        text-align: right;\n",
       "    }\n",
       "</style>\n",
       "<table border=\"1\" class=\"dataframe\">\n",
       "  <thead>\n",
       "    <tr style=\"text-align: right;\">\n",
       "      <th></th>\n",
       "      <th>Amount</th>\n",
       "    </tr>\n",
       "  </thead>\n",
       "  <tbody>\n",
       "    <tr>\n",
       "      <th>Shares</th>\n",
       "      <td>43623.000</td>\n",
       "    </tr>\n",
       "    <tr>\n",
       "      <th>Crypto</th>\n",
       "      <td>69660.658</td>\n",
       "    </tr>\n",
       "  </tbody>\n",
       "</table>\n",
       "</div>"
      ],
      "text/plain": [
       "           Amount\n",
       "Shares  43623.000\n",
       "Crypto  69660.658"
      ]
     },
     "metadata": {},
     "output_type": "display_data"
    }
   ],
   "source": [
    "# Set monthly household income\n",
    "monthly_income = 12000\n",
    "\n",
    "# Consolidate financial assets data\n",
    "shares = my_agg_value + my_spy_value\n",
    "crypto = my_btc_value + my_eth_value\n",
    "assets_data = { \"Amount\": [shares, crypto]}\n",
    "assets = [\"Shares\", \"Crypto\"]\n",
    "\n",
    "# Create savings DataFrame\n",
    "df_savings = pd.DataFrame(assets_data, index = assets)\n",
    "\n",
    "# Display savings DataFrame\n",
    "display(df_savings)\n",
    "\n"
   ]
  },
  {
   "cell_type": "code",
   "execution_count": 1458,
   "metadata": {},
   "outputs": [
    {
     "data": {
      "text/plain": [
       "array([<AxesSubplot:ylabel='Amount'>], dtype=object)"
      ]
     },
     "execution_count": 1458,
     "metadata": {},
     "output_type": "execute_result"
    },
    {
     "data": {
      "image/png": "[encoded data removed]",
      "text/plain": [
       "<Figure size 432x288 with 1 Axes>"
      ]
     },
     "metadata": {},
     "output_type": "display_data"
    }
   ],
   "source": [
    "# Plot savings pie chart\n",
    "df_savings.plot.pie(subplots= True, title=\"Financial Assets\")"
   ]
  },
  {
   "cell_type": "code",
   "execution_count": 1459,
   "metadata": {},
   "outputs": [
    {
     "name": "stdout",
     "output_type": "stream",
     "text": [
      "Congratulations! You have enough money in your savings!\n"
     ]
    }
   ],
   "source": [
    "# Set ideal emergency fund\n",
    "emergency_fund = monthly_income * 3\n",
    "\n",
    "# Calculate total amount of savings\n",
    "total_savings = shares + crypto\n",
    "\n",
    "difference = emergency_fund- total_savings\n",
    "\n",
    "# Validate saving health\n",
    "for amount in df_savings:\n",
    "    if total_savings > emergency_fund:\n",
    "        print(\"Congratulations! You have enough money in your savings!\")\n",
    "    elif total_savings == emergency_fund:\n",
    "        print(\"Congratulations! You have reached your savings goal!\")\n",
    "    elif total_savings < emergency_fund:\n",
    "        print(f\"Hello! You are ${difference} away from reaching your savings goal!\")"
   ]
  },
  {
   "cell_type": "markdown",
   "metadata": {},
   "source": [
    "## Part 2 - Retirement Planning\n",
    "\n",
    "### Monte Carlo Simulation"
   ]
  },
  {
   "cell_type": "code",
   "execution_count": 1460,
   "metadata": {},
   "outputs": [],
   "source": [
    "# Set start and end dates of five years back from today.\n",
    "# Sample results may vary from the solution based on the time frame chosen\n",
    "start_date = pd.Timestamp('2017-03-21', tz='America/New_York').isoformat()\n",
    "end_date = pd.Timestamp('2022-03-21', tz='America/New_York').isoformat()"
   ]
  },
  {
   "cell_type": "code",
   "execution_count": 1461,
   "metadata": {},
   "outputs": [
    {
     "data": {
      "text/html": [
       "<div>\n",
       "<style scoped>\n",
       "    .dataframe tbody tr th:only-of-type {\n",
       "        vertical-align: middle;\n",
       "    }\n",
       "\n",
       "    .dataframe tbody tr th {\n",
       "        vertical-align: top;\n",
       "    }\n",
       "\n",
       "    .dataframe thead tr th {\n",
       "        text-align: left;\n",
       "    }\n",
       "\n",
       "    .dataframe thead tr:last-of-type th {\n",
       "        text-align: right;\n",
       "    }\n",
       "</style>\n",
       "<table border=\"1\" class=\"dataframe\">\n",
       "  <thead>\n",
       "    <tr>\n",
       "      <th></th>\n",
       "      <th colspan=\"7\" halign=\"left\">SPY</th>\n",
       "      <th colspan=\"7\" halign=\"left\">AGG</th>\n",
       "    </tr>\n",
       "    <tr>\n",
       "      <th></th>\n",
       "      <th>open</th>\n",
       "      <th>high</th>\n",
       "      <th>low</th>\n",
       "      <th>close</th>\n",
       "      <th>volume</th>\n",
       "      <th>trade_count</th>\n",
       "      <th>vwap</th>\n",
       "      <th>open</th>\n",
       "      <th>high</th>\n",
       "      <th>low</th>\n",
       "      <th>close</th>\n",
       "      <th>volume</th>\n",
       "      <th>trade_count</th>\n",
       "      <th>vwap</th>\n",
       "    </tr>\n",
       "    <tr>\n",
       "      <th>timestamp</th>\n",
       "      <th></th>\n",
       "      <th></th>\n",
       "      <th></th>\n",
       "      <th></th>\n",
       "      <th></th>\n",
       "      <th></th>\n",
       "      <th></th>\n",
       "      <th></th>\n",
       "      <th></th>\n",
       "      <th></th>\n",
       "      <th></th>\n",
       "      <th></th>\n",
       "      <th></th>\n",
       "      <th></th>\n",
       "    </tr>\n",
       "  </thead>\n",
       "  <tbody>\n",
       "    <tr>\n",
       "      <th>2017-03-21 04:00:00+00:00</th>\n",
       "      <td>237.49</td>\n",
       "      <td>237.61</td>\n",
       "      <td>233.58</td>\n",
       "      <td>233.73</td>\n",
       "      <td>131809275</td>\n",
       "      <td>443599</td>\n",
       "      <td>234.853857</td>\n",
       "      <td>107.93</td>\n",
       "      <td>108.27</td>\n",
       "      <td>107.9300</td>\n",
       "      <td>108.27</td>\n",
       "      <td>2049680</td>\n",
       "      <td>12024</td>\n",
       "      <td>108.175725</td>\n",
       "    </tr>\n",
       "    <tr>\n",
       "      <th>2017-03-22 04:00:00+00:00</th>\n",
       "      <td>233.73</td>\n",
       "      <td>234.61</td>\n",
       "      <td>233.05</td>\n",
       "      <td>234.28</td>\n",
       "      <td>97569204</td>\n",
       "      <td>307469</td>\n",
       "      <td>233.932509</td>\n",
       "      <td>108.44</td>\n",
       "      <td>108.54</td>\n",
       "      <td>108.3600</td>\n",
       "      <td>108.42</td>\n",
       "      <td>2643641</td>\n",
       "      <td>11111</td>\n",
       "      <td>108.455049</td>\n",
       "    </tr>\n",
       "    <tr>\n",
       "      <th>2017-03-23 04:00:00+00:00</th>\n",
       "      <td>233.98</td>\n",
       "      <td>235.34</td>\n",
       "      <td>233.60</td>\n",
       "      <td>234.03</td>\n",
       "      <td>100410277</td>\n",
       "      <td>333903</td>\n",
       "      <td>234.388790</td>\n",
       "      <td>108.44</td>\n",
       "      <td>108.51</td>\n",
       "      <td>108.2635</td>\n",
       "      <td>108.45</td>\n",
       "      <td>2071485</td>\n",
       "      <td>10901</td>\n",
       "      <td>108.417635</td>\n",
       "    </tr>\n",
       "    <tr>\n",
       "      <th>2017-03-24 04:00:00+00:00</th>\n",
       "      <td>234.35</td>\n",
       "      <td>235.04</td>\n",
       "      <td>232.96</td>\n",
       "      <td>233.86</td>\n",
       "      <td>112504853</td>\n",
       "      <td>359600</td>\n",
       "      <td>234.080978</td>\n",
       "      <td>108.35</td>\n",
       "      <td>108.51</td>\n",
       "      <td>108.3100</td>\n",
       "      <td>108.36</td>\n",
       "      <td>3374871</td>\n",
       "      <td>11229</td>\n",
       "      <td>108.398485</td>\n",
       "    </tr>\n",
       "    <tr>\n",
       "      <th>2017-03-27 04:00:00+00:00</th>\n",
       "      <td>231.97</td>\n",
       "      <td>233.92</td>\n",
       "      <td>231.61</td>\n",
       "      <td>233.62</td>\n",
       "      <td>87454452</td>\n",
       "      <td>289784</td>\n",
       "      <td>233.041576</td>\n",
       "      <td>108.65</td>\n",
       "      <td>108.71</td>\n",
       "      <td>108.5345</td>\n",
       "      <td>108.62</td>\n",
       "      <td>1977292</td>\n",
       "      <td>11112</td>\n",
       "      <td>108.600681</td>\n",
       "    </tr>\n",
       "  </tbody>\n",
       "</table>\n",
       "</div>"
      ],
      "text/plain": [
       "                              SPY                                     \\\n",
       "                             open    high     low   close     volume   \n",
       "timestamp                                                              \n",
       "2017-03-21 04:00:00+00:00  237.49  237.61  233.58  233.73  131809275   \n",
       "2017-03-22 04:00:00+00:00  233.73  234.61  233.05  234.28   97569204   \n",
       "2017-03-23 04:00:00+00:00  233.98  235.34  233.60  234.03  100410277   \n",
       "2017-03-24 04:00:00+00:00  234.35  235.04  232.96  233.86  112504853   \n",
       "2017-03-27 04:00:00+00:00  231.97  233.92  231.61  233.62   87454452   \n",
       "\n",
       "                                                      AGG                    \\\n",
       "                          trade_count        vwap    open    high       low   \n",
       "timestamp                                                                     \n",
       "2017-03-21 04:00:00+00:00      443599  234.853857  107.93  108.27  107.9300   \n",
       "2017-03-22 04:00:00+00:00      307469  233.932509  108.44  108.54  108.3600   \n",
       "2017-03-23 04:00:00+00:00      333903  234.388790  108.44  108.51  108.2635   \n",
       "2017-03-24 04:00:00+00:00      359600  234.080978  108.35  108.51  108.3100   \n",
       "2017-03-27 04:00:00+00:00      289784  233.041576  108.65  108.71  108.5345   \n",
       "\n",
       "                                                                    \n",
       "                            close   volume trade_count        vwap  \n",
       "timestamp                                                           \n",
       "2017-03-21 04:00:00+00:00  108.27  2049680       12024  108.175725  \n",
       "2017-03-22 04:00:00+00:00  108.42  2643641       11111  108.455049  \n",
       "2017-03-23 04:00:00+00:00  108.45  2071485       10901  108.417635  \n",
       "2017-03-24 04:00:00+00:00  108.36  3374871       11229  108.398485  \n",
       "2017-03-27 04:00:00+00:00  108.62  1977292       11112  108.600681  "
      ]
     },
     "execution_count": 1461,
     "metadata": {},
     "output_type": "execute_result"
    }
   ],
   "source": [
    "# Get 5 years' worth of historical data for SPY and AGG\n",
    "# (use a limit=1000 parameter to call the most recent 1000 days of data)\n",
    "\n",
    "def get_company(ticker, start, end, tradeapi):\n",
    "    return alpaca.get_bars(\n",
    "        ticker,\n",
    "        TimeFrame.Day,\n",
    "        start,\n",
    "        end\n",
    "    ).df\n",
    "    \n",
    "\n",
    "df_stock_data = {\"SPY\": get_company(\"SPY\", start_date, end_date, tradeapi),\n",
    "                 \"AGG\": get_company(\"AGG\", start_date, end_date, tradeapi)}\n",
    "\n",
    "stock_data = pd.concat(df_stock_data.values(), keys=df_stock_data.keys(), axis=\"columns\")\n",
    "\n",
    "# Display sample data\n",
    "stock_data.head()"
   ]
  },
  {
   "cell_type": "code",
   "execution_count": 1462,
   "metadata": {},
   "outputs": [],
   "source": [
    "# Configuring a Monte Carlo simulation to forecast 30 years cumulative returns\n",
    "from MCForecastTools import MCSimulation\n",
    "\n"
   ]
  },
  {
   "cell_type": "code",
   "execution_count": 1463,
   "metadata": {},
   "outputs": [
    {
     "name": "stdout",
     "output_type": "stream",
     "text": [
      "                              SPY                                     \\\n",
      "                             open    high     low   close     volume   \n",
      "timestamp                                                              \n",
      "2017-03-21 04:00:00+00:00  237.49  237.61  233.58  233.73  131809275   \n",
      "2017-03-22 04:00:00+00:00  233.73  234.61  233.05  234.28   97569204   \n",
      "2017-03-23 04:00:00+00:00  233.98  235.34  233.60  234.03  100410277   \n",
      "2017-03-24 04:00:00+00:00  234.35  235.04  232.96  233.86  112504853   \n",
      "2017-03-27 04:00:00+00:00  231.97  233.92  231.61  233.62   87454452   \n",
      "...                           ...     ...     ...     ...        ...   \n",
      "2022-03-15 04:00:00+00:00  419.66  426.84  418.42  426.17  104219651   \n",
      "2022-03-16 04:00:00+00:00  429.94  435.68  424.80  435.55  138130298   \n",
      "2022-03-17 04:00:00+00:00  433.70  441.07  433.19  441.07  100157174   \n",
      "2022-03-18 04:00:00+00:00  437.81  444.86  437.22  444.31  102327793   \n",
      "2022-03-21 04:00:00+00:00  444.45  446.46  440.68  444.30   85377983   \n",
      "\n",
      "                                                      AGG                     \\\n",
      "                          trade_count        vwap    open     high       low   \n",
      "timestamp                                                                      \n",
      "2017-03-21 04:00:00+00:00      443599  234.853857  107.93  108.270  107.9300   \n",
      "2017-03-22 04:00:00+00:00      307469  233.932509  108.44  108.540  108.3600   \n",
      "2017-03-23 04:00:00+00:00      333903  234.388790  108.44  108.510  108.2635   \n",
      "2017-03-24 04:00:00+00:00      359600  234.080978  108.35  108.510  108.3100   \n",
      "2017-03-27 04:00:00+00:00      289784  233.041576  108.65  108.710  108.5345   \n",
      "...                               ...         ...     ...      ...       ...   \n",
      "2022-03-15 04:00:00+00:00      920659  422.752423  107.84  107.920  107.4300   \n",
      "2022-03-16 04:00:00+00:00     1344164  431.339744  107.63  107.730  107.0032   \n",
      "2022-03-17 04:00:00+00:00      784018  437.706981  107.90  108.060  107.7300   \n",
      "2022-03-18 04:00:00+00:00      790235  441.458916  107.93  108.140  107.9203   \n",
      "2022-03-21 04:00:00+00:00      912432  443.796432  107.58  107.649  106.9841   \n",
      "\n",
      "                                                                     \n",
      "                            close    volume trade_count        vwap  \n",
      "timestamp                                                            \n",
      "2017-03-21 04:00:00+00:00  108.27   2049680       12024  108.175725  \n",
      "2017-03-22 04:00:00+00:00  108.42   2643641       11111  108.455049  \n",
      "2017-03-23 04:00:00+00:00  108.45   2071485       10901  108.417635  \n",
      "2017-03-24 04:00:00+00:00  108.36   3374871       11229  108.398485  \n",
      "2017-03-27 04:00:00+00:00  108.62   1977292       11112  108.600681  \n",
      "...                           ...       ...         ...         ...  \n",
      "2022-03-15 04:00:00+00:00  107.60  13841071       33852  107.622094  \n",
      "2022-03-16 04:00:00+00:00  107.68  15809171       43366  107.553629  \n",
      "2022-03-17 04:00:00+00:00  107.86   8005258       24093  107.889900  \n",
      "2022-03-18 04:00:00+00:00  108.10   7800354       23567  108.060585  \n",
      "2022-03-21 04:00:00+00:00  107.04   7583668       27316  107.310151  \n",
      "\n",
      "[1260 rows x 14 columns]\n"
     ]
    }
   ],
   "source": [
    "# Printing the simulation input data\n",
    "print(stock_data)"
   ]
  },
  {
   "cell_type": "code",
   "execution_count": 1464,
   "metadata": {},
   "outputs": [
    {
     "name": "stdout",
     "output_type": "stream",
     "text": [
      "Running Monte Carlo simulation number 0.\n",
      "Running Monte Carlo simulation number 10.\n",
      "Running Monte Carlo simulation number 20.\n",
      "Running Monte Carlo simulation number 30.\n",
      "Running Monte Carlo simulation number 40.\n",
      "Running Monte Carlo simulation number 50.\n",
      "Running Monte Carlo simulation number 60.\n",
      "Running Monte Carlo simulation number 70.\n",
      "Running Monte Carlo simulation number 80.\n",
      "Running Monte Carlo simulation number 90.\n",
      "Running Monte Carlo simulation number 100.\n",
      "Running Monte Carlo simulation number 110.\n",
      "Running Monte Carlo simulation number 120.\n",
      "Running Monte Carlo simulation number 130.\n",
      "Running Monte Carlo simulation number 140.\n",
      "Running Monte Carlo simulation number 150.\n",
      "Running Monte Carlo simulation number 160.\n",
      "Running Monte Carlo simulation number 170.\n",
      "Running Monte Carlo simulation number 180.\n",
      "Running Monte Carlo simulation number 190.\n",
      "Running Monte Carlo simulation number 200.\n",
      "Running Monte Carlo simulation number 210.\n",
      "Running Monte Carlo simulation number 220.\n",
      "Running Monte Carlo simulation number 230.\n",
      "Running Monte Carlo simulation number 240.\n",
      "Running Monte Carlo simulation number 250.\n",
      "Running Monte Carlo simulation number 260.\n",
      "Running Monte Carlo simulation number 270.\n",
      "Running Monte Carlo simulation number 280.\n",
      "Running Monte Carlo simulation number 290.\n",
      "Running Monte Carlo simulation number 300.\n",
      "Running Monte Carlo simulation number 310.\n",
      "Running Monte Carlo simulation number 320.\n",
      "Running Monte Carlo simulation number 330.\n",
      "Running Monte Carlo simulation number 340.\n",
      "Running Monte Carlo simulation number 350.\n",
      "Running Monte Carlo simulation number 360.\n",
      "Running Monte Carlo simulation number 370.\n",
      "Running Monte Carlo simulation number 380.\n",
      "Running Monte Carlo simulation number 390.\n",
      "Running Monte Carlo simulation number 400.\n",
      "Running Monte Carlo simulation number 410.\n",
      "Running Monte Carlo simulation number 420.\n",
      "Running Monte Carlo simulation number 430.\n",
      "Running Monte Carlo simulation number 440.\n",
      "Running Monte Carlo simulation number 450.\n",
      "Running Monte Carlo simulation number 460.\n",
      "Running Monte Carlo simulation number 470.\n",
      "Running Monte Carlo simulation number 480.\n",
      "Running Monte Carlo simulation number 490.\n"
     ]
    },
    {
     "data": {
      "text/html": [
       "<div>\n",
       "<style scoped>\n",
       "    .dataframe tbody tr th:only-of-type {\n",
       "        vertical-align: middle;\n",
       "    }\n",
       "\n",
       "    .dataframe tbody tr th {\n",
       "        vertical-align: top;\n",
       "    }\n",
       "\n",
       "    .dataframe thead th {\n",
       "        text-align: right;\n",
       "    }\n",
       "</style>\n",
       "<table border=\"1\" class=\"dataframe\">\n",
       "  <thead>\n",
       "    <tr style=\"text-align: right;\">\n",
       "      <th></th>\n",
       "      <th>0</th>\n",
       "      <th>1</th>\n",
       "      <th>2</th>\n",
       "      <th>3</th>\n",
       "      <th>4</th>\n",
       "      <th>5</th>\n",
       "      <th>6</th>\n",
       "      <th>7</th>\n",
       "      <th>8</th>\n",
       "      <th>9</th>\n",
       "      <th>...</th>\n",
       "      <th>490</th>\n",
       "      <th>491</th>\n",
       "      <th>492</th>\n",
       "      <th>493</th>\n",
       "      <th>494</th>\n",
       "      <th>495</th>\n",
       "      <th>496</th>\n",
       "      <th>497</th>\n",
       "      <th>498</th>\n",
       "      <th>499</th>\n",
       "    </tr>\n",
       "  </thead>\n",
       "  <tbody>\n",
       "    <tr>\n",
       "      <th>0</th>\n",
       "      <td>1.000000</td>\n",
       "      <td>1.000000</td>\n",
       "      <td>1.000000</td>\n",
       "      <td>1.000000</td>\n",
       "      <td>1.000000</td>\n",
       "      <td>1.000000</td>\n",
       "      <td>1.000000</td>\n",
       "      <td>1.000000</td>\n",
       "      <td>1.000000</td>\n",
       "      <td>1.000000</td>\n",
       "      <td>...</td>\n",
       "      <td>1.000000</td>\n",
       "      <td>1.000000</td>\n",
       "      <td>1.000000</td>\n",
       "      <td>1.000000</td>\n",
       "      <td>1.000000</td>\n",
       "      <td>1.000000</td>\n",
       "      <td>1.000000</td>\n",
       "      <td>1.000000</td>\n",
       "      <td>1.000000</td>\n",
       "      <td>1.000000</td>\n",
       "    </tr>\n",
       "    <tr>\n",
       "      <th>1</th>\n",
       "      <td>0.996031</td>\n",
       "      <td>0.999645</td>\n",
       "      <td>1.000360</td>\n",
       "      <td>1.003304</td>\n",
       "      <td>0.994200</td>\n",
       "      <td>0.995414</td>\n",
       "      <td>1.016105</td>\n",
       "      <td>0.997561</td>\n",
       "      <td>0.985659</td>\n",
       "      <td>1.003787</td>\n",
       "      <td>...</td>\n",
       "      <td>0.987511</td>\n",
       "      <td>1.006994</td>\n",
       "      <td>1.006498</td>\n",
       "      <td>0.997531</td>\n",
       "      <td>0.999994</td>\n",
       "      <td>1.010456</td>\n",
       "      <td>0.986875</td>\n",
       "      <td>1.004915</td>\n",
       "      <td>1.008831</td>\n",
       "      <td>1.015084</td>\n",
       "    </tr>\n",
       "    <tr>\n",
       "      <th>2</th>\n",
       "      <td>0.997777</td>\n",
       "      <td>1.008972</td>\n",
       "      <td>1.011565</td>\n",
       "      <td>1.023031</td>\n",
       "      <td>0.995131</td>\n",
       "      <td>0.999871</td>\n",
       "      <td>1.010080</td>\n",
       "      <td>0.991314</td>\n",
       "      <td>0.970924</td>\n",
       "      <td>1.013574</td>\n",
       "      <td>...</td>\n",
       "      <td>0.988073</td>\n",
       "      <td>1.009953</td>\n",
       "      <td>1.002227</td>\n",
       "      <td>1.003301</td>\n",
       "      <td>0.999154</td>\n",
       "      <td>1.016857</td>\n",
       "      <td>0.988508</td>\n",
       "      <td>0.992023</td>\n",
       "      <td>1.006446</td>\n",
       "      <td>1.020642</td>\n",
       "    </tr>\n",
       "    <tr>\n",
       "      <th>3</th>\n",
       "      <td>0.995460</td>\n",
       "      <td>1.010926</td>\n",
       "      <td>1.009184</td>\n",
       "      <td>1.027128</td>\n",
       "      <td>0.994965</td>\n",
       "      <td>0.995734</td>\n",
       "      <td>1.004621</td>\n",
       "      <td>0.989138</td>\n",
       "      <td>0.977575</td>\n",
       "      <td>1.018631</td>\n",
       "      <td>...</td>\n",
       "      <td>0.992432</td>\n",
       "      <td>1.008044</td>\n",
       "      <td>1.011561</td>\n",
       "      <td>1.003845</td>\n",
       "      <td>1.003643</td>\n",
       "      <td>1.017553</td>\n",
       "      <td>0.979424</td>\n",
       "      <td>0.998322</td>\n",
       "      <td>1.007160</td>\n",
       "      <td>1.030534</td>\n",
       "    </tr>\n",
       "    <tr>\n",
       "      <th>4</th>\n",
       "      <td>0.993729</td>\n",
       "      <td>1.005657</td>\n",
       "      <td>0.998399</td>\n",
       "      <td>1.035021</td>\n",
       "      <td>1.007195</td>\n",
       "      <td>0.996079</td>\n",
       "      <td>0.997341</td>\n",
       "      <td>0.993022</td>\n",
       "      <td>0.993307</td>\n",
       "      <td>1.015373</td>\n",
       "      <td>...</td>\n",
       "      <td>0.990678</td>\n",
       "      <td>1.011539</td>\n",
       "      <td>1.017207</td>\n",
       "      <td>1.004335</td>\n",
       "      <td>0.997047</td>\n",
       "      <td>1.021741</td>\n",
       "      <td>0.968001</td>\n",
       "      <td>0.995466</td>\n",
       "      <td>1.004414</td>\n",
       "      <td>1.028858</td>\n",
       "    </tr>\n",
       "    <tr>\n",
       "      <th>...</th>\n",
       "      <td>...</td>\n",
       "      <td>...</td>\n",
       "      <td>...</td>\n",
       "      <td>...</td>\n",
       "      <td>...</td>\n",
       "      <td>...</td>\n",
       "      <td>...</td>\n",
       "      <td>...</td>\n",
       "      <td>...</td>\n",
       "      <td>...</td>\n",
       "      <td>...</td>\n",
       "      <td>...</td>\n",
       "      <td>...</td>\n",
       "      <td>...</td>\n",
       "      <td>...</td>\n",
       "      <td>...</td>\n",
       "      <td>...</td>\n",
       "      <td>...</td>\n",
       "      <td>...</td>\n",
       "      <td>...</td>\n",
       "      <td>...</td>\n",
       "    </tr>\n",
       "    <tr>\n",
       "      <th>7556</th>\n",
       "      <td>6.609955</td>\n",
       "      <td>12.012081</td>\n",
       "      <td>62.200132</td>\n",
       "      <td>46.958016</td>\n",
       "      <td>23.193259</td>\n",
       "      <td>26.869918</td>\n",
       "      <td>10.453712</td>\n",
       "      <td>11.270297</td>\n",
       "      <td>2.996052</td>\n",
       "      <td>44.016680</td>\n",
       "      <td>...</td>\n",
       "      <td>17.977221</td>\n",
       "      <td>6.324141</td>\n",
       "      <td>33.011914</td>\n",
       "      <td>11.549536</td>\n",
       "      <td>9.808987</td>\n",
       "      <td>6.287185</td>\n",
       "      <td>6.340307</td>\n",
       "      <td>10.463503</td>\n",
       "      <td>12.355313</td>\n",
       "      <td>24.860899</td>\n",
       "    </tr>\n",
       "    <tr>\n",
       "      <th>7557</th>\n",
       "      <td>6.593013</td>\n",
       "      <td>11.892324</td>\n",
       "      <td>61.734687</td>\n",
       "      <td>46.734062</td>\n",
       "      <td>22.662392</td>\n",
       "      <td>26.926525</td>\n",
       "      <td>10.388524</td>\n",
       "      <td>11.359547</td>\n",
       "      <td>3.010645</td>\n",
       "      <td>44.094179</td>\n",
       "      <td>...</td>\n",
       "      <td>17.866998</td>\n",
       "      <td>6.317673</td>\n",
       "      <td>33.042625</td>\n",
       "      <td>11.475229</td>\n",
       "      <td>9.848596</td>\n",
       "      <td>6.272550</td>\n",
       "      <td>6.352441</td>\n",
       "      <td>10.455237</td>\n",
       "      <td>12.328815</td>\n",
       "      <td>24.843129</td>\n",
       "    </tr>\n",
       "    <tr>\n",
       "      <th>7558</th>\n",
       "      <td>6.551165</td>\n",
       "      <td>11.807361</td>\n",
       "      <td>61.283297</td>\n",
       "      <td>46.493925</td>\n",
       "      <td>22.875880</td>\n",
       "      <td>27.080664</td>\n",
       "      <td>10.415077</td>\n",
       "      <td>11.244406</td>\n",
       "      <td>3.029140</td>\n",
       "      <td>43.685296</td>\n",
       "      <td>...</td>\n",
       "      <td>18.166696</td>\n",
       "      <td>6.305935</td>\n",
       "      <td>33.061812</td>\n",
       "      <td>11.398251</td>\n",
       "      <td>9.879866</td>\n",
       "      <td>6.371087</td>\n",
       "      <td>6.400057</td>\n",
       "      <td>10.354775</td>\n",
       "      <td>12.516588</td>\n",
       "      <td>25.292693</td>\n",
       "    </tr>\n",
       "    <tr>\n",
       "      <th>7559</th>\n",
       "      <td>6.534157</td>\n",
       "      <td>11.777557</td>\n",
       "      <td>60.768263</td>\n",
       "      <td>46.600491</td>\n",
       "      <td>22.825484</td>\n",
       "      <td>27.292614</td>\n",
       "      <td>10.423226</td>\n",
       "      <td>11.276776</td>\n",
       "      <td>3.025112</td>\n",
       "      <td>43.516836</td>\n",
       "      <td>...</td>\n",
       "      <td>18.294219</td>\n",
       "      <td>6.314329</td>\n",
       "      <td>32.918282</td>\n",
       "      <td>11.553220</td>\n",
       "      <td>9.909528</td>\n",
       "      <td>6.372763</td>\n",
       "      <td>6.431935</td>\n",
       "      <td>10.302009</td>\n",
       "      <td>12.470313</td>\n",
       "      <td>24.968207</td>\n",
       "    </tr>\n",
       "    <tr>\n",
       "      <th>7560</th>\n",
       "      <td>6.535322</td>\n",
       "      <td>11.669546</td>\n",
       "      <td>60.937000</td>\n",
       "      <td>46.397717</td>\n",
       "      <td>22.806517</td>\n",
       "      <td>27.331658</td>\n",
       "      <td>10.428238</td>\n",
       "      <td>11.269017</td>\n",
       "      <td>3.037822</td>\n",
       "      <td>43.242032</td>\n",
       "      <td>...</td>\n",
       "      <td>18.274132</td>\n",
       "      <td>6.308551</td>\n",
       "      <td>32.987153</td>\n",
       "      <td>11.628024</td>\n",
       "      <td>9.874347</td>\n",
       "      <td>6.369623</td>\n",
       "      <td>6.385615</td>\n",
       "      <td>10.336901</td>\n",
       "      <td>12.569196</td>\n",
       "      <td>25.040511</td>\n",
       "    </tr>\n",
       "  </tbody>\n",
       "</table>\n",
       "<p>7561 rows × 500 columns</p>\n",
       "</div>"
      ],
      "text/plain": [
       "           0          1          2          3          4          5    \\\n",
       "0     1.000000   1.000000   1.000000   1.000000   1.000000   1.000000   \n",
       "1     0.996031   0.999645   1.000360   1.003304   0.994200   0.995414   \n",
       "2     0.997777   1.008972   1.011565   1.023031   0.995131   0.999871   \n",
       "3     0.995460   1.010926   1.009184   1.027128   0.994965   0.995734   \n",
       "4     0.993729   1.005657   0.998399   1.035021   1.007195   0.996079   \n",
       "...        ...        ...        ...        ...        ...        ...   \n",
       "7556  6.609955  12.012081  62.200132  46.958016  23.193259  26.869918   \n",
       "7557  6.593013  11.892324  61.734687  46.734062  22.662392  26.926525   \n",
       "7558  6.551165  11.807361  61.283297  46.493925  22.875880  27.080664   \n",
       "7559  6.534157  11.777557  60.768263  46.600491  22.825484  27.292614   \n",
       "7560  6.535322  11.669546  60.937000  46.397717  22.806517  27.331658   \n",
       "\n",
       "            6          7         8          9    ...        490       491  \\\n",
       "0      1.000000   1.000000  1.000000   1.000000  ...   1.000000  1.000000   \n",
       "1      1.016105   0.997561  0.985659   1.003787  ...   0.987511  1.006994   \n",
       "2      1.010080   0.991314  0.970924   1.013574  ...   0.988073  1.009953   \n",
       "3      1.004621   0.989138  0.977575   1.018631  ...   0.992432  1.008044   \n",
       "4      0.997341   0.993022  0.993307   1.015373  ...   0.990678  1.011539   \n",
       "...         ...        ...       ...        ...  ...        ...       ...   \n",
       "7556  10.453712  11.270297  2.996052  44.016680  ...  17.977221  6.324141   \n",
       "7557  10.388524  11.359547  3.010645  44.094179  ...  17.866998  6.317673   \n",
       "7558  10.415077  11.244406  3.029140  43.685296  ...  18.166696  6.305935   \n",
       "7559  10.423226  11.276776  3.025112  43.516836  ...  18.294219  6.314329   \n",
       "7560  10.428238  11.269017  3.037822  43.242032  ...  18.274132  6.308551   \n",
       "\n",
       "            492        493       494       495       496        497  \\\n",
       "0      1.000000   1.000000  1.000000  1.000000  1.000000   1.000000   \n",
       "1      1.006498   0.997531  0.999994  1.010456  0.986875   1.004915   \n",
       "2      1.002227   1.003301  0.999154  1.016857  0.988508   0.992023   \n",
       "3      1.011561   1.003845  1.003643  1.017553  0.979424   0.998322   \n",
       "4      1.017207   1.004335  0.997047  1.021741  0.968001   0.995466   \n",
       "...         ...        ...       ...       ...       ...        ...   \n",
       "7556  33.011914  11.549536  9.808987  6.287185  6.340307  10.463503   \n",
       "7557  33.042625  11.475229  9.848596  6.272550  6.352441  10.455237   \n",
       "7558  33.061812  11.398251  9.879866  6.371087  6.400057  10.354775   \n",
       "7559  32.918282  11.553220  9.909528  6.372763  6.431935  10.302009   \n",
       "7560  32.987153  11.628024  9.874347  6.369623  6.385615  10.336901   \n",
       "\n",
       "            498        499  \n",
       "0      1.000000   1.000000  \n",
       "1      1.008831   1.015084  \n",
       "2      1.006446   1.020642  \n",
       "3      1.007160   1.030534  \n",
       "4      1.004414   1.028858  \n",
       "...         ...        ...  \n",
       "7556  12.355313  24.860899  \n",
       "7557  12.328815  24.843129  \n",
       "7558  12.516588  25.292693  \n",
       "7559  12.470313  24.968207  \n",
       "7560  12.569196  25.040511  \n",
       "\n",
       "[7561 rows x 500 columns]"
      ]
     },
     "execution_count": 1464,
     "metadata": {},
     "output_type": "execute_result"
    }
   ],
   "source": [
    "# Running a Monte Carlo simulation to forecast 30 years cumulative returns\n",
    "MCSim = MCSimulation(\n",
    "    stock_data,\n",
    "    weights = [.60, .40],\n",
    "    num_simulation=500,\n",
    "    num_trading_days=7560)\n",
    "\n",
    "MCSim.calc_cumulative_return()"
   ]
  },
  {
   "cell_type": "code",
   "execution_count": 1465,
   "metadata": {},
   "outputs": [
    {
     "data": {
      "text/plain": [
       "<AxesSubplot:title={'center':'500 Simulations of Cumulative Portfolio Return Trajectories Over the Next 7560 Trading Days.'}>"
      ]
     },
     "execution_count": 1465,
     "metadata": {},
     "output_type": "execute_result"
    },
    {
     "data": {
      "image/png": "[encoded data removed]",
      "text/plain": [
       "<Figure size 432x288 with 1 Axes>"
      ]
     },
     "metadata": {
      "needs_background": "light"
     },
     "output_type": "display_data"
    }
   ],
   "source": [
    "# Plot simulation outcomes\n",
    "MCSim.plot_simulation()"
   ]
  },
  {
   "cell_type": "code",
   "execution_count": 1466,
   "metadata": {},
   "outputs": [
    {
     "data": {
      "text/plain": [
       "<AxesSubplot:title={'center':'Distribution of Final Cumuluative Returns Across All 500 Simulations'}, ylabel='Frequency'>"
      ]
     },
     "execution_count": 1466,
     "metadata": {},
     "output_type": "execute_result"
    },
    {
     "data": {
      "image/png": "[encoded data removed]",
      "text/plain": [
       "<Figure size 432x288 with 1 Axes>"
      ]
     },
     "metadata": {
      "needs_background": "light"
     },
     "output_type": "display_data"
    }
   ],
   "source": [
    "# Plot probability distribution and confidence intervals\n",
    "MCSim.plot_distribution()"
   ]
  },
  {
   "cell_type": "markdown",
   "metadata": {},
   "source": [
    "### Retirement Analysis"
   ]
  },
  {
   "cell_type": "code",
   "execution_count": 1470,
   "metadata": {},
   "outputs": [
    {
     "name": "stdout",
     "output_type": "stream",
     "text": [
      "count           500.000000\n",
      "mean             13.779730\n",
      "std               9.621344\n",
      "min               1.628087\n",
      "25%               7.430551\n",
      "50%              11.156193\n",
      "75%              17.045974\n",
      "max              60.937000\n",
      "95% CI Lower      3.454501\n",
      "95% CI Upper     43.137471\n",
      "Name: 7560, dtype: float64\n"
     ]
    }
   ],
   "source": [
    "# Fetch summary statistics from the Monte Carlo simulation results\n",
    "summary_table = MCSim.summarize_cumulative_return()\n",
    "\n",
    "# Print summary statistics\n",
    "print(summary_table)"
   ]
  },
  {
   "cell_type": "markdown",
   "metadata": {},
   "source": [
    "### Calculate the expected portfolio return at the `95%` lower and upper confidence intervals based on a `$20,000` initial investment."
   ]
  },
  {
   "cell_type": "code",
   "execution_count": 1471,
   "metadata": {},
   "outputs": [
    {
     "name": "stdout",
     "output_type": "stream",
     "text": [
      "There is a 95% chance that an initial investment of $20000 in the portfolio over the next 30 years will end within in the range of $69090.03 and $862749.43\n"
     ]
    }
   ],
   "source": [
    "# Set initial investment\n",
    "initial_investment = 20000\n",
    "\n",
    "# Use the lower and upper `95%` confidence intervals to calculate the range of the possible outcomes of our $20,000\n",
    "ci_lower = round(summary_table[8]*initial_investment,2)\n",
    "ci_upper = round(summary_table[9]*initial_investment,2)\n",
    "\n",
    "# Print results\n",
    "print(f\"There is a 95% chance that an initial investment of ${initial_investment} in the portfolio\"\n",
    "      f\" over the next 30 years will end within in the range of\"\n",
    "      f\" ${ci_lower} and ${ci_upper}\")"
   ]
  },
  {
   "cell_type": "markdown",
   "metadata": {},
   "source": [
    "### Calculate the expected portfolio return at the `95%` lower and upper confidence intervals based on a `50%` increase in the initial investment."
   ]
  },
  {
   "cell_type": "code",
   "execution_count": 1472,
   "metadata": {},
   "outputs": [
    {
     "name": "stdout",
     "output_type": "stream",
     "text": [
      "There is a 95% chance that an initial investment of $30000.0 in the portfolio over the next 30 years will end within in the range of $103635.04 and $1294124.14\n"
     ]
    }
   ],
   "source": [
    "# Set initial investment\n",
    "initial_investment = 20000 * 1.5\n",
    "\n",
    "# Use the lower and upper `95%` confidence intervals to calculate the range of the possible outcomes of our $30,000\n",
    "ci_lower = round(summary_table[8]*initial_investment,2)\n",
    "ci_upper = round(summary_table[9]*initial_investment,2)\n",
    "\n",
    "# Print results\n",
    "print(f\"There is a 95% chance that an initial investment of ${initial_investment} in the portfolio\"\n",
    "      f\" over the next 30 years will end within in the range of\"\n",
    "      f\" ${ci_lower} and ${ci_upper}\")"
   ]
  }
 ],
 "metadata": {
  "kernelspec": {
   "display_name": "Python 3",
   "language": "python",
   "name": "python3"
  },
  "language_info": {
   "codemirror_mode": {
    "name": "ipython",
    "version": 3
   },
   "file_extension": ".py",
   "mimetype": "text/x-python",
   "name": "python",
   "nbconvert_exporter": "python",
   "pygments_lexer": "ipython3",
   "version": "3.7.11"
  },
  "nteract": {
   "version": "0.28.0"
  }
 },
 "nbformat": 4,
 "nbformat_minor": 4
}
